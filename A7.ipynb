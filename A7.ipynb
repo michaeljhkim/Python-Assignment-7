{
 "cells": [
  {
   "cell_type": "markdown",
   "metadata": {
    "deletable": false,
    "editable": false,
    "nbgrader": {
     "cell_type": "markdown",
     "checksum": "051841e600ba7919d6a14142b83f6587",
     "grade": false,
     "grade_id": "cell-8270991a73638fc0",
     "locked": true,
     "schema_version": 3,
     "solution": false
    }
   },
   "source": [
    "# Assignment 7\n",
    "\n",
    "## An Exception to every rule!\n",
    "\n",
    "### Maximum grade: 31 / 27\n",
    "\n",
    "The purpose of this Assignment is to:\n",
    "- Learn to check data types before manipulating data\n",
    "- Practice handling different types of exceptions gracefully without your program breaking"
   ]
  },
  {
   "cell_type": "code",
   "execution_count": 1,
   "metadata": {
    "deletable": false,
    "editable": false,
    "nbgrader": {
     "cell_type": "code",
     "checksum": "49dfdb2fe4d2b56a41ae13c9a024534f",
     "grade": false,
     "grade_id": "cell-d3dc4f52b669fac3",
     "locked": true,
     "schema_version": 3,
     "solution": false,
     "task": false
    }
   },
   "outputs": [],
   "source": [
    "def tester(a, b=True):\n",
    "    \"\"\"\n",
    "    I am the function that tells you if you pass or fail tests.\n",
    "    Run me, please.\n",
    "    \"\"\"\n",
    "    return \"You Passed!\" if a == b else \"You Failed!\""
   ]
  },
  {
   "cell_type": "markdown",
   "metadata": {
    "deletable": false,
    "editable": false,
    "nbgrader": {
     "cell_type": "markdown",
     "checksum": "d358ba508ba3a4a48518d628d7a57a73",
     "grade": false,
     "grade_id": "cell-165b0cea3a8dbb9e",
     "locked": true,
     "schema_version": 3,
     "solution": false
    }
   },
   "source": [
    "# Practice Question 1: Finding a Product\n",
    "\n",
    "Consider the following function that multiplies all the numbers in a given list:"
   ]
  },
  {
   "cell_type": "code",
   "execution_count": null,
   "metadata": {
    "deletable": false,
    "editable": false,
    "nbgrader": {
     "cell_type": "code",
     "checksum": "6410eb3391113d6d76f5ebd2190fcc08",
     "grade": false,
     "grade_id": "cell-5e6e4bab5a43be3e",
     "locked": true,
     "schema_version": 3,
     "solution": false,
     "task": false
    }
   },
   "outputs": [],
   "source": [
    "def prod(l):\n",
    "    p = 1\n",
    "    for i in l:\n",
    "        p *= i\n",
    "    return p"
   ]
  },
  {
   "cell_type": "markdown",
   "metadata": {
    "deletable": false,
    "editable": false,
    "nbgrader": {
     "cell_type": "markdown",
     "checksum": "1be166d931592d50691cdfbfc2aad1a3",
     "grade": false,
     "grade_id": "cell-874a0cb020a0a786",
     "locked": true,
     "schema_version": 3,
     "solution": false
    }
   },
   "source": [
    "This works quite well, given a list of all integers, or a mix with floating point numbers:"
   ]
  },
  {
   "cell_type": "code",
   "execution_count": null,
   "metadata": {
    "deletable": false,
    "editable": false,
    "nbgrader": {
     "cell_type": "code",
     "checksum": "a10382992c4bdf137f7bcdf81ea70f27",
     "grade": false,
     "grade_id": "cell-4a17dc5a0e856eb9",
     "locked": true,
     "schema_version": 3,
     "solution": false,
     "task": false
    }
   },
   "outputs": [],
   "source": [
    "prod([1,2,3,7]) == 42\n",
    "prod([1.0, 2.0, 3.1, 17.5]) == 108.5"
   ]
  },
  {
   "cell_type": "markdown",
   "metadata": {
    "deletable": false,
    "editable": false,
    "nbgrader": {
     "cell_type": "markdown",
     "checksum": "24f9318dca6a680ebe60b2720a4f18a6",
     "grade": false,
     "grade_id": "cell-719e1919c336baec",
     "locked": true,
     "schema_version": 3,
     "solution": false
    }
   },
   "source": [
    "However, adding strings or lists produces unexpected behaviours:"
   ]
  },
  {
   "cell_type": "code",
   "execution_count": null,
   "metadata": {
    "deletable": false,
    "editable": false,
    "nbgrader": {
     "cell_type": "code",
     "checksum": "7033aed21d859e7ac9e1a3feed6034bf",
     "grade": false,
     "grade_id": "cell-59902ff33f14cb14",
     "locked": true,
     "schema_version": 3,
     "solution": false,
     "task": false
    }
   },
   "outputs": [],
   "source": [
    "prod([1, 2, 3, 'badger '])\n",
    "prod([2, [7, 8, 9], 3])\n",
    "prod([1, 3, 7, '', []])"
   ]
  },
  {
   "cell_type": "markdown",
   "metadata": {
    "deletable": false,
    "editable": false,
    "nbgrader": {
     "cell_type": "markdown",
     "checksum": "91ca94c76ddf1c1a51cd9f77021ddbfc",
     "grade": false,
     "grade_id": "cell-ed90ea1ad4ea4837",
     "locked": true,
     "schema_version": 3,
     "solution": false
    }
   },
   "source": [
    "We can use the `type` function to get the type of a variable and make use of that in our code.  For example:"
   ]
  },
  {
   "cell_type": "code",
   "execution_count": null,
   "metadata": {
    "deletable": false,
    "editable": false,
    "nbgrader": {
     "cell_type": "code",
     "checksum": "dda8a12daea2b0281ad18c6375a1d663",
     "grade": false,
     "grade_id": "cell-77f547065aae2f71",
     "locked": true,
     "schema_version": 3,
     "solution": false,
     "task": false
    }
   },
   "outputs": [],
   "source": [
    "ls = [1, 2.5, \"cat\", [1, 2.5, \"cat\"], {0: 1, 1: 2.5, 2: \"cat\"}]\n",
    "for x in ls:\n",
    "    if type(x) in (int, float):\n",
    "        print(\"x is a number\")\n",
    "    elif type(x) == str:\n",
    "        print(\"x is a string\")\n",
    "    elif type(x) in (list, set, tuple):\n",
    "        print(\"x is a list/set/tuple\")\n",
    "    elif type(x) == dict:\n",
    "        print(\"x is a dictionary\")\n",
    "    else:\n",
    "        print(\"x is a \" + str(type(x)))"
   ]
  },
  {
   "cell_type": "markdown",
   "metadata": {
    "deletable": false,
    "editable": false,
    "nbgrader": {
     "cell_type": "markdown",
     "checksum": "83f56c172bf5126a1b9f54c7903b4831",
     "grade": false,
     "grade_id": "cell-4f1831f63c24891d",
     "locked": true,
     "schema_version": 3,
     "solution": false
    }
   },
   "source": [
    "Write a function, `prodBetter(l)` that performs the same function as `prod(l)`, but ignores any elements of `l` that are not integers or floating point numbers."
   ]
  },
  {
   "cell_type": "code",
   "execution_count": null,
   "metadata": {
    "deletable": false,
    "nbgrader": {
     "cell_type": "code",
     "checksum": "840865e0c5b42c81587d7436503eec59",
     "grade": false,
     "grade_id": "cell-181f97d8d432d83f",
     "locked": false,
     "schema_version": 3,
     "solution": true,
     "task": false
    }
   },
   "outputs": [],
   "source": [
    "# Your code here\n",
    "def prodBetter(l):\n",
    "    p = 1\n",
    "    for i in l:\n",
    "        if type(i) in (int, float):\n",
    "            p *= i\n",
    "    return p\n"
   ]
  },
  {
   "cell_type": "code",
   "execution_count": null,
   "metadata": {
    "deletable": false,
    "editable": false,
    "nbgrader": {
     "cell_type": "code",
     "checksum": "9bf82d4f89749ff477a60408a111130f",
     "grade": false,
     "grade_id": "cell-48eee8bd774bfed0",
     "locked": true,
     "schema_version": 3,
     "solution": false,
     "task": false
    }
   },
   "outputs": [],
   "source": [
    "print(\"Practice Question #1 Test Case #1:\", tester(prodBetter([2, [7, 8, 9], 3, 'kittens']),  6))"
   ]
  },
  {
   "cell_type": "markdown",
   "metadata": {
    "deletable": false,
    "editable": false,
    "nbgrader": {
     "cell_type": "markdown",
     "checksum": "7c4e7b820f21c29c914400fe4f378d8b",
     "grade": false,
     "grade_id": "cell-0ea2615e3a466214",
     "locked": true,
     "schema_version": 3,
     "solution": false
    }
   },
   "source": [
    "# Practice Question 2: prodEvenBetter()\n",
    "\n",
    "Let's build on the `prodBetter(l)` function. Say that '3.14' is an element of the list. We want our function to be able to multiply by this number. However, we obviously don't want to convert the string 'kittens' to a number (<a href='https://xkcd.com/26/'>generally one should not perform mathematics on cats</a>).\n",
    "\n",
    "Improve the function so that it tries to convert any strings in the list into floating point numbers, but skips any string that cannot be converted to a number.  You will have to make use of try/except to catch any conversion errors that occur."
   ]
  },
  {
   "cell_type": "code",
   "execution_count": null,
   "metadata": {
    "deletable": false,
    "nbgrader": {
     "cell_type": "code",
     "checksum": "9a012bb72c91d9b55c60b8f3a62d8164",
     "grade": false,
     "grade_id": "cell-879d54f6ed82ba55",
     "locked": false,
     "schema_version": 3,
     "solution": true,
     "task": false
    }
   },
   "outputs": [],
   "source": [
    "def prodEvenBetter(l):\n",
    "    p = 1\n",
    "    conv = 0\n",
    "    for i in l:\n",
    "        try:\n",
    "            conv = float(i)\n",
    "            p *= conv\n",
    "        except:\n",
    "            p *= 1\n",
    "            \n",
    "    return p\n"
   ]
  },
  {
   "cell_type": "code",
   "execution_count": null,
   "metadata": {
    "deletable": false,
    "editable": false,
    "nbgrader": {
     "cell_type": "code",
     "checksum": "4efd90b4b27419222a8fb1ffdcc17b5b",
     "grade": false,
     "grade_id": "cell-c0812f67d6130632",
     "locked": true,
     "schema_version": 3,
     "solution": false,
     "task": false
    }
   },
   "outputs": [],
   "source": [
    "print(\"Practice Question #2 Test Case #1:\", tester(prodEvenBetter([2, [7, 8, 9], 3, 'kittens']), 6))\n",
    "print(\"Practice Question #2 Test Case #2:\", tester(prodEvenBetter([2, [7, 8, 9], 3, '3.14']), 18.84))"
   ]
  },
  {
   "cell_type": "markdown",
   "metadata": {
    "deletable": false,
    "editable": false,
    "nbgrader": {
     "cell_type": "markdown",
     "checksum": "8c97b42fdb50d1d727cb37d4a8e2689b",
     "grade": false,
     "grade_id": "cell-f0421da4a3cf21b9",
     "locked": true,
     "schema_version": 3,
     "solution": false
    }
   },
   "source": [
    "## Practice Question 3: prodBest(l)\n",
    "\n",
    "What a terrific function. Too bad it can't work with hexadecimal numbers (yet).\n",
    "\n",
    "Create a function `prodBest(l)` that does everything `prodEvenBetter(l)` does, but also tries to convert any strings that are provided into hexadecimal.\n",
    "\n",
    "Modify the given function hex2dec() so that it raises a `BaseException` if it cannot convert the given number from hex. `prodBest()` should skip any strings in the list that raise this particular error."
   ]
  },
  {
   "cell_type": "code",
   "execution_count": null,
   "metadata": {
    "deletable": false,
    "nbgrader": {
     "cell_type": "code",
     "checksum": "333cfbcf88b2d685a8736cdca9e2b073",
     "grade": false,
     "grade_id": "cell-6ee421ea9d792a63",
     "locked": false,
     "schema_version": 3,
     "solution": true,
     "task": false
    }
   },
   "outputs": [],
   "source": [
    "alphabet = ['A', 'B', 'C', 'D', 'E', 'F', 'H']\n",
    "def hex2dec(n):\n",
    "    decimal = 0\n",
    "    \n",
    "    if(n == []) or (n == \"\"):\n",
    "        return 1\n",
    "    \n",
    "    hexList = list(n[::-1])\n",
    "    try:\n",
    "        for i in range(len(hexList)):\n",
    "            if (hexList[i].upper() in alphabet):\n",
    "                decimal += (alphabet.index(hexList[i].upper()) + 10) * (16**i)\n",
    "            else:\n",
    "                decimal += int(hexList[i]) * (16**i)\n",
    "    except:\n",
    "        raise Exception(\"Does not Works\")\n",
    "     \n",
    "    return decimal\n",
    "\n",
    "def prodBest(l):\n",
    "    p = 1\n",
    "    conv = 0\n",
    "    for i in l:\n",
    "        try:\n",
    "            conv = hex2dec(i)\n",
    "            p *= conv\n",
    "        except:\n",
    "            try:\n",
    "                conv = float(i)\n",
    "                p *= conv\n",
    "            except:\n",
    "                p *= 1\n",
    "            \n",
    "    return p"
   ]
  },
  {
   "cell_type": "code",
   "execution_count": null,
   "metadata": {
    "deletable": false,
    "editable": false,
    "nbgrader": {
     "cell_type": "code",
     "checksum": "92ff41073f4aa2da2b86f098afa91ad1",
     "grade": false,
     "grade_id": "cell-b0a0d2ae640911ca",
     "locked": true,
     "schema_version": 3,
     "solution": false,
     "task": false
    }
   },
   "outputs": [],
   "source": [
    "print(\"Practice Question #3 Test Case #1:\", tester(prodBest(['1A', 'F']), 390))\n",
    "print(\"Practice Question #3 Test Case #2:\", tester(prodBest([[], 3.0, '3.14', 'cats', '1a']), 244.92))"
   ]
  },
  {
   "cell_type": "markdown",
   "metadata": {
    "deletable": false,
    "editable": false,
    "nbgrader": {
     "cell_type": "markdown",
     "checksum": "cb3ff8b36a601cbbeedeecdef1d10d19",
     "grade": false,
     "grade_id": "cell-242c7365c30a27b9",
     "locked": true,
     "schema_version": 3,
     "solution": false
    }
   },
   "source": [
    "# Question 1 (4 points):  Adding Numbers (But Better!)\n",
    "\n",
    "Write a function, `addBetter(x, y)` that takes two numbers, adds them, and **returns a floating point number (even if all the inputs are integers)**. Your function should try to convert strings to floats, and handle any weird inputs gracefully. If you are unable to add `x` and `y`, return `False`."
   ]
  },
  {
   "cell_type": "code",
   "execution_count": 6,
   "metadata": {
    "deletable": false,
    "nbgrader": {
     "cell_type": "code",
     "checksum": "d48fbfd1616073fd7e6cf3a113606e66",
     "grade": false,
     "grade_id": "cell-ffec72cc583c9c6c",
     "locked": false,
     "schema_version": 3,
     "solution": true
    }
   },
   "outputs": [],
   "source": [
    "def addBetter(x, y):\n",
    "    try:\n",
    "        return (float(x) + float(y))\n",
    "    except:\n",
    "        return False\n",
    "    \n"
   ]
  },
  {
   "cell_type": "code",
   "execution_count": 7,
   "metadata": {
    "deletable": false,
    "editable": false,
    "nbgrader": {
     "cell_type": "code",
     "checksum": "148672e405dbda436ec88654017e9a30",
     "grade": false,
     "grade_id": "cell-c17d97124ed91f2e",
     "locked": true,
     "schema_version": 3,
     "solution": false,
     "task": false
    }
   },
   "outputs": [
    {
     "name": "stdout",
     "output_type": "stream",
     "text": [
      "Question #1 Test Case #1: You Passed!\n",
      "Question #1 Test Case #2: You Passed!\n",
      "Question #1 Test Case #3: You Passed!\n",
      "Question #1 Test Case #4: You Passed!\n"
     ]
    }
   ],
   "source": [
    "print(\"Question #1 Test Case #1:\", tester(addBetter(3, 4), 7))\n",
    "print(\"Question #1 Test Case #2:\", tester(addBetter('3.14', '2.72'), 5.86))\n",
    "print(\"Question #1 Test Case #3:\", tester(not addBetter('cat', '3')))\n",
    "print(\"Question #1 Test Case #4:\", tester(type(addBetter(0, 0)), float))"
   ]
  },
  {
   "cell_type": "code",
   "execution_count": null,
   "metadata": {
    "deletable": false,
    "editable": false,
    "nbgrader": {
     "cell_type": "code",
     "checksum": "d7f616074453e8a86c63a05c06d2e281",
     "grade": true,
     "grade_id": "cell-31c9848c88d2fc07",
     "locked": true,
     "points": 1,
     "schema_version": 3,
     "solution": false
    }
   },
   "outputs": [],
   "source": [
    "# Hidden test for addBetter"
   ]
  },
  {
   "cell_type": "code",
   "execution_count": null,
   "metadata": {
    "deletable": false,
    "editable": false,
    "nbgrader": {
     "cell_type": "code",
     "checksum": "e373edcddfcb2626f5a70a5568778aa0",
     "grade": true,
     "grade_id": "cell-ca28d218ed96521f",
     "locked": true,
     "points": 1,
     "schema_version": 3,
     "solution": false
    }
   },
   "outputs": [],
   "source": [
    "# Hidden test for addBetter"
   ]
  },
  {
   "cell_type": "code",
   "execution_count": null,
   "metadata": {
    "deletable": false,
    "editable": false,
    "nbgrader": {
     "cell_type": "code",
     "checksum": "9107297a67a153b6f55b26a7beb288d7",
     "grade": true,
     "grade_id": "cell-dc1492c7ee471b53",
     "locked": true,
     "points": 1,
     "schema_version": 3,
     "solution": false
    }
   },
   "outputs": [],
   "source": [
    "# Hidden test for addBetter"
   ]
  },
  {
   "cell_type": "code",
   "execution_count": null,
   "metadata": {
    "deletable": false,
    "editable": false,
    "nbgrader": {
     "cell_type": "code",
     "checksum": "cbc0b5e09f74ff2281f22f0fa0789097",
     "grade": true,
     "grade_id": "cell-4b1c513d2ecefb29",
     "locked": true,
     "points": 1,
     "schema_version": 3,
     "solution": false
    }
   },
   "outputs": [],
   "source": [
    "# Hidden test for addBetter"
   ]
  },
  {
   "cell_type": "markdown",
   "metadata": {
    "deletable": false,
    "editable": false,
    "nbgrader": {
     "cell_type": "markdown",
     "checksum": "ff7b517effe4604b53d70e44b4110ae8",
     "grade": false,
     "grade_id": "cell-2e792f8f5e8ffe7c",
     "locked": true,
     "schema_version": 3,
     "solution": false
    }
   },
   "source": [
    "# Question 2 (4 points): Comparing Rainy Seasons\n",
    "\n",
    "Write a function, `precipiation(d, a, b)` that takes parameters:\n",
    "\n",
    "`d`: Dictionary mapping a season to an amount of precipitation for that season.<br>\n",
    "`a`: One season<br>\n",
    "`b`: Another season\n",
    "\n",
    "Your function should return `True` if the rainfall in season `a` was greater than it was in season `b`, and `False` otherwise. If the rainfall was equal, return `False`.\n",
    "\n",
    "Your function should handle the following errors the following ways:\n",
    "\n",
    "If either a or b is not a valid season in the dictionary, you should return an error message (as a string) formatted **exactly** as:<br>\n",
    "\"Error: Key is not in Dictionary.\"\n",
    "\n",
    "If the values for the rainfall in each season are not valid for comparison, that is, one of them is not a number, return an error message (as a string) formatted **exactly** as:<br>\n",
    "\"Error: Invalid data types in Dictionary?\"\n",
    "\n",
    "You may assume that no test case will produce both types of errors (so you do not need to decide whether or not to return a Key Error or Invalid Type error when you encounter both). However, you should not make any assumptions about the seasons that exist--sometimes there may be a 'potato' season."
   ]
  },
  {
   "cell_type": "code",
   "execution_count": 10,
   "metadata": {
    "deletable": false,
    "nbgrader": {
     "cell_type": "code",
     "checksum": "d17741b447fa0c8025c14d2d4377e311",
     "grade": false,
     "grade_id": "cell-bc772084dd8eaf72",
     "locked": false,
     "schema_version": 3,
     "solution": true
    }
   },
   "outputs": [],
   "source": [
    "def precipitation(d, a, b):\n",
    "    numsA = 0\n",
    "    numsB = 0\n",
    "    try:\n",
    "        numsA = d[a]\n",
    "        numsB = d[b]\n",
    "    except:\n",
    "        return \"Error: Key is not in Dictionary.\"\n",
    "        \n",
    "    try:\n",
    "        return (numsA > numsB)\n",
    "    except:\n",
    "        return \"Error: Invalid data types in Dictionary?\"\n"
   ]
  },
  {
   "cell_type": "code",
   "execution_count": 11,
   "metadata": {
    "deletable": false,
    "editable": false,
    "nbgrader": {
     "cell_type": "code",
     "checksum": "02e6a80bc1e04839feec21344b6a189a",
     "grade": false,
     "grade_id": "cell-318995d0d64cfa8c",
     "locked": true,
     "schema_version": 3,
     "solution": false,
     "task": false
    }
   },
   "outputs": [
    {
     "name": "stdout",
     "output_type": "stream",
     "text": [
      "Question #2 Test Case #1: You Passed!\n",
      "Question #2 Test Case #2: You Passed!\n",
      "Question #2 Test Case #3: You Passed!\n",
      "Question #2 Test Case #4: You Passed!\n",
      "Question #2 Test Case #5: You Passed!\n"
     ]
    }
   ],
   "source": [
    "print(\"Question #2 Test Case #1:\", tester(precipitation({\"Spring\": 813, \"Summer\":337, \"Fall\": 581, \"Winter\": 468}, \"Spring\", \"Summer\")))\n",
    "print(\"Question #2 Test Case #2:\", tester(not precipitation({\"Spring\": 982, \"Summer\":484, \"Fall\": 557, \"Winter\": 313}, \"Winter\", \"Spring\")))\n",
    "print(\"Question #2 Test Case #3:\", tester(precipitation({\"Spring\": 887, \"Summer\":529, \"Fall\": 616, \"Winter\": 286}, \"Winter\", \"Potato\"), \"Error: Key is not in Dictionary.\"))\n",
    "print(\"Question #2 Test Case #4:\", tester(precipitation({\"Spring\": 887, \"Summer\":529, \"Fall\": 616, \"Winter\": 286, \"Potato\": 17}, \"Winter\", \"Potato\")))\n",
    "print(\"Question #2 Test Case #5:\", tester(precipitation({\"Spring\": 'cats', \"Summer\": 313, \"Fall\": 1457, \"Winter\": 354}, \"Summer\", \"Spring\"), 'Error: Invalid data types in Dictionary?'))"
   ]
  },
  {
   "cell_type": "code",
   "execution_count": null,
   "metadata": {
    "deletable": false,
    "editable": false,
    "nbgrader": {
     "cell_type": "code",
     "checksum": "709bf417079987257c23d1b67d3e98fd",
     "grade": true,
     "grade_id": "cell-3b30499e72fbe01b",
     "locked": true,
     "points": 1,
     "schema_version": 3,
     "solution": false
    }
   },
   "outputs": [],
   "source": [
    "# Hidden test cell for precipitation"
   ]
  },
  {
   "cell_type": "code",
   "execution_count": null,
   "metadata": {
    "deletable": false,
    "editable": false,
    "nbgrader": {
     "cell_type": "code",
     "checksum": "ca33d2466779c485e142ef3dada99c59",
     "grade": true,
     "grade_id": "cell-beb43870c366f25b",
     "locked": true,
     "points": 1,
     "schema_version": 3,
     "solution": false
    }
   },
   "outputs": [],
   "source": [
    "# Hidden test cell for precipitation"
   ]
  },
  {
   "cell_type": "code",
   "execution_count": null,
   "metadata": {
    "deletable": false,
    "editable": false,
    "nbgrader": {
     "cell_type": "code",
     "checksum": "3e3ee42ffb0c15371113b488590f474b",
     "grade": true,
     "grade_id": "cell-e1eebcbf3d5864b6",
     "locked": true,
     "points": 1,
     "schema_version": 3,
     "solution": false
    }
   },
   "outputs": [],
   "source": [
    "# Hidden test cell for precipitation"
   ]
  },
  {
   "cell_type": "code",
   "execution_count": null,
   "metadata": {
    "deletable": false,
    "editable": false,
    "nbgrader": {
     "cell_type": "code",
     "checksum": "47a364e24f4ef5b254f661248135d5f7",
     "grade": true,
     "grade_id": "cell-87385834f481adc1",
     "locked": true,
     "points": 1,
     "schema_version": 3,
     "solution": false
    }
   },
   "outputs": [],
   "source": [
    "# Hidden test cell for precipitation"
   ]
  },
  {
   "cell_type": "markdown",
   "metadata": {
    "deletable": false,
    "editable": false,
    "nbgrader": {
     "cell_type": "markdown",
     "checksum": "14aa62e6b506b296c616f8cfec78194b",
     "grade": false,
     "grade_id": "cell-8fa5e91ba2d14adc",
     "locked": true,
     "schema_version": 3,
     "solution": false
    }
   },
   "source": [
    "# Question 3 (4 points): Checking Valid Inputs\n",
    "\n",
    "Write a function `valid(f, l)` that, given a function `f` and a list of potential inputs `l`, returns a list, tuple, or set of the elements of `l` that are valid inputs to `f`.  How will you know if something is a valid input to `f`?  If you call `f` on the element and an exception is thrown, you know it was not a valid input--review practice question 3 where we try to use the hex2dec() function, but ignore any error we get if the input was not valid.\n",
    "\n",
    "For instance, if `f` is the `abs()` function, it can only accept integers and floating point numbers. If it is the `max()` function, it can only accept lists or tuples, if it is the `sqrt()` function, it can only accept non-negative numbers, etc..."
   ]
  },
  {
   "cell_type": "code",
   "execution_count": null,
   "metadata": {
    "deletable": false,
    "nbgrader": {
     "cell_type": "code",
     "checksum": "f978321e227fc6bae5facd7f7a1f210d",
     "grade": false,
     "grade_id": "cell-6e59a5187b224404",
     "locked": false,
     "schema_version": 3,
     "solution": true
    }
   },
   "outputs": [],
   "source": [
    "def valid(f, l):\n",
    "    possible = []\n",
    "    for i in l:\n",
    "        try:\n",
    "            f(i)\n",
    "            possible.append(i)\n",
    "        except:\n",
    "            pass\n",
    "    return possible\n"
   ]
  },
  {
   "cell_type": "code",
   "execution_count": null,
   "metadata": {
    "deletable": false,
    "editable": false,
    "nbgrader": {
     "cell_type": "code",
     "checksum": "64a3feaa45ce73a847fa9c6cd1cdad32",
     "grade": false,
     "grade_id": "cell-c6d062dc8d2cb383",
     "locked": true,
     "schema_version": 3,
     "solution": false,
     "task": false
    }
   },
   "outputs": [],
   "source": [
    "from math import sqrt, asin\n",
    "def onlyStrings(x):\n",
    "    if type(x) == str:\n",
    "        return True\n",
    "    raise UserWarning\n",
    "print(\"Question #3 Test Case #1:\", tester(valid(sqrt, [-3, 0, 5]), [0,5]))\n",
    "print(\"Question #3 Test Case #2:\", tester(valid(asin, [0.3, -0.1, -1, 1, 'cat', '1', 1.3]), [0.3, -0.1, -1, 1]))\n",
    "print(\"Question #3 Test Case #3:\", tester(valid(chr, [-1, 10, 123.3, 2**21]), [10]))\n",
    "print(\"Question #3 Test Case #4:\", tester(valid(onlyStrings, ['cat', 123, [1, 2, 3]]), ['cat']))"
   ]
  },
  {
   "cell_type": "code",
   "execution_count": null,
   "metadata": {
    "deletable": false,
    "editable": false,
    "nbgrader": {
     "cell_type": "code",
     "checksum": "7b1cbf8dbbeeb5d414dd6be40d34831b",
     "grade": true,
     "grade_id": "cell-d6df13b487b53f1f",
     "locked": true,
     "points": 1,
     "schema_version": 3,
     "solution": false
    }
   },
   "outputs": [],
   "source": [
    "# Hidden test cell for valid()"
   ]
  },
  {
   "cell_type": "code",
   "execution_count": null,
   "metadata": {
    "deletable": false,
    "editable": false,
    "nbgrader": {
     "cell_type": "code",
     "checksum": "8a625aa196ff7dedf91b666cf6c3ec83",
     "grade": true,
     "grade_id": "cell-0dc4921f996ca83d",
     "locked": true,
     "points": 1,
     "schema_version": 3,
     "solution": false
    }
   },
   "outputs": [],
   "source": [
    "# Hidden test cell for valid()"
   ]
  },
  {
   "cell_type": "code",
   "execution_count": null,
   "metadata": {
    "deletable": false,
    "editable": false,
    "nbgrader": {
     "cell_type": "code",
     "checksum": "52a35de46d5fc60e4a24b8594ca2c0ee",
     "grade": true,
     "grade_id": "cell-d9a6d490ab954561",
     "locked": true,
     "points": 1,
     "schema_version": 3,
     "solution": false
    }
   },
   "outputs": [],
   "source": [
    "# Hidden test cell for valid()"
   ]
  },
  {
   "cell_type": "code",
   "execution_count": null,
   "metadata": {
    "deletable": false,
    "editable": false,
    "nbgrader": {
     "cell_type": "code",
     "checksum": "bf3ba64084ceb5852209edfbe8253155",
     "grade": true,
     "grade_id": "cell-104063570791e181",
     "locked": true,
     "points": 1,
     "schema_version": 3,
     "solution": false
    }
   },
   "outputs": [],
   "source": [
    "# Hidden test cell for valid()"
   ]
  },
  {
   "cell_type": "markdown",
   "metadata": {
    "deletable": false,
    "editable": false,
    "nbgrader": {
     "cell_type": "markdown",
     "checksum": "73d0839b0ad32aff5f23fe927a2a6628",
     "grade": false,
     "grade_id": "cell-0880dc64b4822f45",
     "locked": true,
     "schema_version": 3,
     "solution": false
    }
   },
   "source": [
    "# Question 4a (2 points): Finding Edge Cases I\n",
    "\n",
    "This program is a partially correct solution to the winning streak problem from a previous lab. Given a string, list, or tuple as input, find the longest winning streak. This solution contains an error. Find a test case that returns an incorrect value, or raises an error.\n",
    "\n",
    "**Do not modify or try to correct the code for this question, simply find a problematic input for the function**\n",
    "\n",
    "\n",
    "What was it suppsoed to do? Well, it calculates the greatest Winning Streak in an iterable item:\n",
    "- You pass in an iterable item, where each element represents a team.\n",
    "    - For Example, I have 3 teams: Team A, Team B, and Team C. \n",
    "    - They play 7 games and the winners look like so:\n",
    "        - \"ABAABBC\"\n",
    "    - The largest winning streak is 2, since Team A and Team B won 2 times in a row"
   ]
  },
  {
   "cell_type": "code",
   "execution_count": null,
   "metadata": {
    "deletable": false,
    "nbgrader": {
     "cell_type": "code",
     "checksum": "319d72d91e9051ecd819cdadb133d4b1",
     "grade": false,
     "grade_id": "cell-9209a400fa396373",
     "locked": false,
     "schema_version": 3,
     "solution": true
    }
   },
   "outputs": [],
   "source": [
    "# Modify the value of this variable so that \n",
    "# winningStreakBad produces incorrect output\n",
    "PROBLEM_INPUT1 = 'ABABA'\n",
    "# Do not modify the code below this line\n",
    "def winningStreakBad(s):\n",
    "    if type(s) not in (tuple, list, str):\n",
    "        return 0    \n",
    "    if len(s) == 0:\n",
    "        return 0\n",
    "    wins = 1\n",
    "    maxwins = 1\n",
    "    for i in range(len(s)):\n",
    "        if s[i] == s[i-1]:\n",
    "            wins += 1\n",
    "        else:\n",
    "            wins = 1\n",
    "        if wins > maxwins:\n",
    "            maxwins = wins\n",
    "    return maxwins\n"
   ]
  },
  {
   "cell_type": "code",
   "execution_count": null,
   "metadata": {
    "deletable": false,
    "editable": false,
    "nbgrader": {
     "cell_type": "code",
     "checksum": "43d4d08847fa3440110b2916ebf90391",
     "grade": false,
     "grade_id": "cell-9f33164c07993572",
     "locked": true,
     "schema_version": 3,
     "solution": false
    }
   },
   "outputs": [],
   "source": [
    "## This is what the autograder will see:\n",
    "# Note: An error is not the only unexpected output. \n",
    "# It can be a number and still be wrong.\n",
    "winningStreakBad(PROBLEM_INPUT1)"
   ]
  },
  {
   "cell_type": "code",
   "execution_count": null,
   "metadata": {
    "deletable": false,
    "editable": false,
    "nbgrader": {
     "cell_type": "code",
     "checksum": "0f3e9725b4b86f23c72557b1a2cf3e12",
     "grade": true,
     "grade_id": "cell-33490ad25625a24f",
     "locked": true,
     "points": 2,
     "schema_version": 3,
     "solution": false
    }
   },
   "outputs": [],
   "source": [
    "# Hidden test cell for 4a"
   ]
  },
  {
   "cell_type": "markdown",
   "metadata": {
    "deletable": false,
    "editable": false,
    "nbgrader": {
     "cell_type": "markdown",
     "checksum": "a24824ea14de313f7c0c9f7b13866186",
     "grade": false,
     "grade_id": "cell-17fb42d6dd16692b",
     "locked": true,
     "schema_version": 3,
     "solution": false
    }
   },
   "source": [
    "# Question 4b (2 points): Finding Edge Cases II\n",
    "\n",
    "The code below tries to solve the linear system:\n",
    "$$ax + b = cx + d$$\n",
    "\n",
    "Find an input (A, B, C, D) that produces an exception. For the purposes of this question, `False` is considered a correct result for non-numeric inputs (strings, lists, etc.)\n",
    "\n",
    "Produce any exception you can as long as it isn't NameError. You actually have to choose something for all 4 variables that causes an error or a wrong answer!"
   ]
  },
  {
   "cell_type": "code",
   "execution_count": 25,
   "metadata": {
    "deletable": false,
    "nbgrader": {
     "cell_type": "code",
     "checksum": "96691e62a606976c1f066d6b5bfa5ea0",
     "grade": false,
     "grade_id": "cell-8dcff65a305b9ef9",
     "locked": false,
     "schema_version": 3,
     "solution": true
    }
   },
   "outputs": [],
   "source": [
    "# Modify these values so that solveLinearBad \n",
    "# does not produce correct results\n",
    "A = 12\n",
    "B = 435\n",
    "C = 12\n",
    "D = 34\n",
    "\n",
    "# Do not modify the code below this line\n",
    "def solveLinearBad(a, b, c, d):    \n",
    "    for i in [a, b, c, d]:\n",
    "        if type(i) not in (int, float):\n",
    "            return False\n",
    "    x = (b - d) / (c - a)\n",
    "    return x\n"
   ]
  },
  {
   "cell_type": "code",
   "execution_count": 26,
   "metadata": {
    "deletable": false,
    "editable": false,
    "nbgrader": {
     "cell_type": "code",
     "checksum": "a4bca2ccb1a7cd2e4f4f9a105900e39e",
     "grade": false,
     "grade_id": "cell-55d7840b8e242ff9",
     "locked": true,
     "schema_version": 3,
     "solution": false
    }
   },
   "outputs": [
    {
     "ename": "ZeroDivisionError",
     "evalue": "division by zero",
     "output_type": "error",
     "traceback": [
      "\u001b[0;31m---------------------------------------------------------------------------\u001b[0m",
      "\u001b[0;31mZeroDivisionError\u001b[0m                         Traceback (most recent call last)",
      "\u001b[0;32m/tmp/ipykernel_1440714/3959226369.py\u001b[0m in \u001b[0;36m<module>\u001b[0;34m\u001b[0m\n\u001b[1;32m      1\u001b[0m \u001b[0;31m## This is what the autograder will see:\u001b[0m\u001b[0;34m\u001b[0m\u001b[0;34m\u001b[0m\u001b[0m\n\u001b[0;32m----> 2\u001b[0;31m \u001b[0msolveLinearBad\u001b[0m\u001b[0;34m(\u001b[0m\u001b[0mA\u001b[0m\u001b[0;34m,\u001b[0m \u001b[0mB\u001b[0m\u001b[0;34m,\u001b[0m \u001b[0mC\u001b[0m\u001b[0;34m,\u001b[0m \u001b[0mD\u001b[0m\u001b[0;34m)\u001b[0m\u001b[0;34m\u001b[0m\u001b[0;34m\u001b[0m\u001b[0m\n\u001b[0m",
      "\u001b[0;32m/tmp/ipykernel_1440714/1684397237.py\u001b[0m in \u001b[0;36msolveLinearBad\u001b[0;34m(a, b, c, d)\u001b[0m\n\u001b[1;32m     11\u001b[0m         \u001b[0;32mif\u001b[0m \u001b[0mtype\u001b[0m\u001b[0;34m(\u001b[0m\u001b[0mi\u001b[0m\u001b[0;34m)\u001b[0m \u001b[0;32mnot\u001b[0m \u001b[0;32min\u001b[0m \u001b[0;34m(\u001b[0m\u001b[0mint\u001b[0m\u001b[0;34m,\u001b[0m \u001b[0mfloat\u001b[0m\u001b[0;34m)\u001b[0m\u001b[0;34m:\u001b[0m\u001b[0;34m\u001b[0m\u001b[0;34m\u001b[0m\u001b[0m\n\u001b[1;32m     12\u001b[0m             \u001b[0;32mreturn\u001b[0m \u001b[0;32mFalse\u001b[0m\u001b[0;34m\u001b[0m\u001b[0;34m\u001b[0m\u001b[0m\n\u001b[0;32m---> 13\u001b[0;31m     \u001b[0mx\u001b[0m \u001b[0;34m=\u001b[0m \u001b[0;34m(\u001b[0m\u001b[0mb\u001b[0m \u001b[0;34m-\u001b[0m \u001b[0md\u001b[0m\u001b[0;34m)\u001b[0m \u001b[0;34m/\u001b[0m \u001b[0;34m(\u001b[0m\u001b[0mc\u001b[0m \u001b[0;34m-\u001b[0m \u001b[0ma\u001b[0m\u001b[0;34m)\u001b[0m\u001b[0;34m\u001b[0m\u001b[0;34m\u001b[0m\u001b[0m\n\u001b[0m\u001b[1;32m     14\u001b[0m     \u001b[0;32mreturn\u001b[0m \u001b[0mx\u001b[0m\u001b[0;34m\u001b[0m\u001b[0;34m\u001b[0m\u001b[0m\n",
      "\u001b[0;31mZeroDivisionError\u001b[0m: division by zero"
     ]
    }
   ],
   "source": [
    "## This is what the autograder will see:\n",
    "solveLinearBad(A, B, C, D)"
   ]
  },
  {
   "cell_type": "code",
   "execution_count": null,
   "metadata": {
    "deletable": false,
    "editable": false,
    "nbgrader": {
     "cell_type": "code",
     "checksum": "a672ac0a0795b9359b5eadeb002f397d",
     "grade": true,
     "grade_id": "cell-b97f26dd1961c7c2",
     "locked": true,
     "points": 2,
     "schema_version": 3,
     "solution": false
    }
   },
   "outputs": [],
   "source": [
    "# Hidden test cell for 4b"
   ]
  },
  {
   "cell_type": "markdown",
   "metadata": {
    "deletable": false,
    "editable": false,
    "nbgrader": {
     "cell_type": "markdown",
     "checksum": "f7f131193a2aec41e818e025dc3b90f7",
     "grade": false,
     "grade_id": "cell-d927f9f5b2e3d74b",
     "locked": true,
     "schema_version": 3,
     "solution": false,
     "task": false
    }
   },
   "source": [
    "# Question # 5: Damage Control Bot (5 marks)\n",
    "The primitive humans have attempted to create an Artificial Inteligence (A.I.) to mitigate the damage their functions might cause. Given a function as an argument, the A.I. should execute the function and propogate the return value, but in the case of these custom exceptions:\n",
    "* a `Fire` exception, the A.I. should return the string \"This is fine\"\n",
    "* an `Explosion` exception, the A.I. should return the string \"THIS IS FINE\"\n",
    "* a `Meltdown` exception, the A.I. should return the string \"Thisssissssfffffinne\"\n",
    "* a `Missing` exception, the A.I. should return the string \"This is\"\n",
    "* \"It is what it is\" for every other exception\n",
    "\n",
    "Write a function named `clippy` to represent this primitive A.I.\n",
    "\n",
    "**Note:** To \"propogate\" the return value simply means to return that function's output as if it were what `clippy` outputs."
   ]
  },
  {
   "cell_type": "code",
   "execution_count": null,
   "metadata": {
    "deletable": false,
    "nbgrader": {
     "cell_type": "code",
     "checksum": "b71087eaa1f036534cdc010f14740b7b",
     "grade": false,
     "grade_id": "cell-9adfce2248306a07",
     "locked": false,
     "schema_version": 3,
     "solution": true,
     "task": false
    }
   },
   "outputs": [],
   "source": [
    "# Get started with this...\n",
    "class Fire(Exception):\n",
    "    pass\n",
    "\n",
    "class Explosion(Exception):\n",
    "    pass\n",
    "\n",
    "class Meltdown(Exception):\n",
    "    pass\n",
    "\n",
    "class Missing(Exception):\n",
    "    pass\n",
    "\n",
    "\n",
    "def clippy(func):\n",
    "    try:\n",
    "        raise func()\n",
    "        \n",
    "    except Fire:\n",
    "        return \"This is fine\"\n",
    "    except Explosion:\n",
    "        return \"THIS IS FINE\"\n",
    "    except Meltdown:\n",
    "        return \"Thisssissssfffffinne\"\n",
    "    except Missing:\n",
    "        return \"This is\"\n",
    "    except:\n",
    "        return \"It is what it is\"\n",
    "    "
   ]
  },
  {
   "cell_type": "code",
   "execution_count": null,
   "metadata": {
    "deletable": false,
    "editable": false,
    "nbgrader": {
     "cell_type": "code",
     "checksum": "dca7ec6f186decb18628d9b9750a3a46",
     "grade": false,
     "grade_id": "cell-6557b92015dfe7f3",
     "locked": true,
     "schema_version": 3,
     "solution": false,
     "task": false
    }
   },
   "outputs": [],
   "source": [
    "from IPython.display import HTML\n",
    "def throwFire():\n",
    "    raise Fire\n",
    "def throwMeltdown():\n",
    "    raise Meltdown\n",
    "print(\"Question #5 Test Case 1:\", tester(clippy(lambda : throwFire()), \"This is fine\"))\n",
    "print(\"Question #5 Test Case 2:\", tester(clippy(lambda : throwMeltdown()), \"Thisssissssfffffinne\"))\n",
    "HTML('<img src=\"https://s3.amazonaws.com/media.muckrack.com/mrdaily/site/images/2016/08/03/thisisfine.gif\">')"
   ]
  },
  {
   "cell_type": "code",
   "execution_count": null,
   "metadata": {
    "deletable": false,
    "editable": false,
    "nbgrader": {
     "cell_type": "code",
     "checksum": "264144d8752679741268e128b8cdc506",
     "grade": true,
     "grade_id": "cell-0c01d90e4dd98b5c",
     "locked": true,
     "points": 2,
     "schema_version": 3,
     "solution": false,
     "task": false
    }
   },
   "outputs": [],
   "source": [
    "# Hidden Test Case"
   ]
  },
  {
   "cell_type": "code",
   "execution_count": null,
   "metadata": {
    "deletable": false,
    "editable": false,
    "nbgrader": {
     "cell_type": "code",
     "checksum": "b2ceb32c3e4650eec9013270ba56edc9",
     "grade": true,
     "grade_id": "cell-bb4e414c26c0f6b6",
     "locked": true,
     "points": 2,
     "schema_version": 3,
     "solution": false,
     "task": false
    }
   },
   "outputs": [],
   "source": [
    "# Hidden Test Case"
   ]
  },
  {
   "cell_type": "code",
   "execution_count": null,
   "metadata": {
    "deletable": false,
    "editable": false,
    "nbgrader": {
     "cell_type": "code",
     "checksum": "89ef10570cfa1802cd2ae79367128208",
     "grade": true,
     "grade_id": "cell-1598c2a5ef0385dc",
     "locked": true,
     "points": 1,
     "schema_version": 3,
     "solution": false,
     "task": false
    }
   },
   "outputs": [],
   "source": [
    "# Hidden Test Case"
   ]
  },
  {
   "cell_type": "markdown",
   "metadata": {
    "deletable": false,
    "editable": false,
    "nbgrader": {
     "cell_type": "markdown",
     "checksum": "abc1c47ff1e5a4b10b9bd1ac818f7663",
     "grade": false,
     "grade_id": "cell-458957ee8cfc1d0a",
     "locked": true,
     "schema_version": 3,
     "solution": false,
     "task": false
    }
   },
   "source": [
    "# Question # 6: Testing Testing 123 (2 marks)\n",
    "\n",
    "As you probably know by now, finding a bug or undesirable behavior after spending hours writing the program can be very difficult. It is important to know if such a bug exists in your program, and not knowing can be very dangerous, depending on the application (airplanes, nuclear plants, solutions to an Intro to Programming course, etc.). \n",
    "\n",
    "The problem scenario: reverse the remainder of a string starting from some index. This time, a TA of COMPSCI 1MD3 **attempted** to write a function to fulfill the requirements. It is obvious that their implementation does not work, but it is your job to find out why.\n",
    "\n",
    "Write a function `testingtesting` which tkes as an argument the provided function `reversefunc`, and returns a tuple containing 2 tuples.  Each tuple contains inputs to the function under test that will \"break\" it in the following ways respectively:\n",
    "* Generate an IndexError\n",
    "* Generate a ZeroDivisionError\n",
    "\n",
    "For example, if the function `reversefunc` was given:\n",
    "\n",
    "```python\n",
    "def reversefunc(word, index):\n",
    "    newString = word[:index]\n",
    "    offset = index + 3\n",
    "    while(len(word) / offset >= 1):\n",
    "        newString = word[offset] + newString\n",
    "        offset += 1\n",
    "    return word[:index] + newString\n",
    "```\n",
    "\n",
    "Your return format is a tuple of tuples, like so:\n",
    "```python\n",
    "def testingtesting(reversefunc):\n",
    "    return ((str, int), (str, int))\n",
    "```"
   ]
  },
  {
   "cell_type": "code",
   "execution_count": 28,
   "metadata": {
    "deletable": false,
    "editable": false,
    "nbgrader": {
     "cell_type": "code",
     "checksum": "023f5d9137328ce57050f640f5697364",
     "grade": false,
     "grade_id": "cell-81efceceb5f20b9e",
     "locked": true,
     "schema_version": 3,
     "solution": false,
     "task": false
    }
   },
   "outputs": [],
   "source": [
    "# THIS IS THE PROVIDED FUNCTION THAT YOU NEED TO TEST\n",
    "def reversefunc(word, start):\n",
    "    listString = list(word)\n",
    "    lengthString = len(listString)\n",
    "    index =  start % (lengthString - 1)\n",
    "    prefix = listString[:index]\n",
    "    newSuffix = []\n",
    "    while(index <= lengthString):\n",
    "        if(len(word) < 5):\n",
    "            return word\n",
    "        else:\n",
    "            newSuffix.append(listString[lengthString - index])\n",
    "        index += 1\n",
    "    return prefix + newSuffix"
   ]
  },
  {
   "cell_type": "code",
   "execution_count": 29,
   "metadata": {
    "deletable": false,
    "nbgrader": {
     "cell_type": "code",
     "checksum": "b0bc4fd4e8e21ab5088326339d5d74d3",
     "grade": false,
     "grade_id": "cell-41c5f680ad0f889e",
     "locked": false,
     "schema_version": 3,
     "solution": true,
     "task": false
    }
   },
   "outputs": [
    {
     "data": {
      "text/plain": [
       "(('wasdd', 0), ('a', 50))"
      ]
     },
     "execution_count": 29,
     "metadata": {},
     "output_type": "execute_result"
    }
   ],
   "source": [
    "# Your function here returns inputs which exposes an \n",
    "# IndexError and a ZeroDivisionError respectively!\n",
    "# Run the cell above first to load reversefunc into kernel!\n",
    "# Test cases are not provided because that would be giving the answer away...\n",
    "def testingtesting(reversefunc):\n",
    "    #reversefunc(\"wasdd\", 0)\n",
    "    #reversefunc(\"a\", 50)\n",
    "    return ((\"wasdd\", 0),(\"a\", 50))\n",
    "\n",
    "testingtesting(reversefunc)\n"
   ]
  },
  {
   "cell_type": "code",
   "execution_count": null,
   "metadata": {
    "deletable": false,
    "editable": false,
    "nbgrader": {
     "cell_type": "code",
     "checksum": "bfa8a4ee38e0e0a93984e213eb6aceaa",
     "grade": true,
     "grade_id": "cell-5d63f783eaf9e41e",
     "locked": true,
     "points": 1,
     "schema_version": 3,
     "solution": false,
     "task": false
    }
   },
   "outputs": [],
   "source": [
    "#Hidden test"
   ]
  },
  {
   "cell_type": "code",
   "execution_count": null,
   "metadata": {
    "deletable": false,
    "editable": false,
    "nbgrader": {
     "cell_type": "code",
     "checksum": "e85bb410745729f37556ae4c7a75877c",
     "grade": true,
     "grade_id": "cell-51c1c95b86767305",
     "locked": true,
     "points": 1,
     "schema_version": 3,
     "solution": false,
     "task": false
    }
   },
   "outputs": [],
   "source": [
    "# Hidden test"
   ]
  },
  {
   "cell_type": "markdown",
   "metadata": {
    "deletable": false,
    "editable": false,
    "nbgrader": {
     "cell_type": "markdown",
     "checksum": "9f885019e54d29b827cff9d481d4754d",
     "grade": false,
     "grade_id": "cell-ea2ab1abbc6709e7",
     "locked": true,
     "schema_version": 3,
     "solution": false,
     "task": false
    }
   },
   "source": [
    "# Question 7: Even It Up (4 points)\n",
    "\n",
    "A primitive score board displays a positive integer **N** (whole numbers). It also has two buttons, `plus` which increases N by 1, or `minus` which decreases N by 1. As a fun activity while waiting on the bench, the athletes are calculating the least number of button presses it would take so that each digit in the display is an even number.\n",
    "\n",
    "Write a function `evenItUp` which takes one integer argument `N` (the number on the score board) and return an integer which represents the __minimum__ number of button presses (plus 1 or minus 1) required so that __N__ contains only **even** integers.\n",
    "\n",
    "For example:\n",
    "* '2019' needs minimally 1 `plus` press OR 11 `minus` press to become either '2020' OR '2008' respectively. The smaller of the two options is 1.\n",
    "* '300' needs minimally 12 minus presses to become '288'"
   ]
  },
  {
   "cell_type": "code",
   "execution_count": 23,
   "metadata": {
    "deletable": false,
    "nbgrader": {
     "cell_type": "code",
     "checksum": "68acb569a047d2a75672f4d02c6992db",
     "grade": false,
     "grade_id": "cell-2fb70c0b97f7215e",
     "locked": false,
     "schema_version": 3,
     "solution": true,
     "task": false
    }
   },
   "outputs": [],
   "source": [
    "# Your code here\n",
    "\n",
    "def evenchecker(N):\n",
    "    dig_list = list(str(N))\n",
    "    for x in dig_list:\n",
    "        if (int(x)%2) != 0:\n",
    "            return False\n",
    "        \n",
    "    return True\n",
    "\n",
    "def evenItUp(N):\n",
    "    num = 0\n",
    "    \n",
    "    up = N\n",
    "    down = N\n",
    "    \n",
    "    while (evenchecker(N+num) == False) and (evenchecker(N-num) == False):\n",
    "        num += 1\n",
    "        \n",
    "    return num\n"
   ]
  },
  {
   "cell_type": "code",
   "execution_count": 24,
   "metadata": {},
   "outputs": [
    {
     "name": "stdout",
     "output_type": "stream",
     "text": [
      "Question #7 Test Case #1: You Passed!\n",
      "Question #7 Test Case #2: You Passed!\n",
      "Question #7 Test Case #3: You Passed!\n"
     ]
    }
   ],
   "source": [
    "# Your given test cases\n",
    "print(\"Question #7 Test Case #1:\", tester(evenItUp(2019), 1))\n",
    "print(\"Question #7 Test Case #2:\", tester(evenItUp(300), 12))\n",
    "print(\"Question #7 Test Case #3:\", tester(evenItUp(47053), 165))"
   ]
  },
  {
   "cell_type": "code",
   "execution_count": null,
   "metadata": {
    "deletable": false,
    "editable": false,
    "nbgrader": {
     "cell_type": "code",
     "checksum": "8874d8175292d88a8631e4789dd393ea",
     "grade": true,
     "grade_id": "cell-e5f126932278d09e",
     "locked": true,
     "points": 2,
     "schema_version": 3,
     "solution": false,
     "task": false
    }
   },
   "outputs": [],
   "source": []
  },
  {
   "cell_type": "code",
   "execution_count": null,
   "metadata": {
    "deletable": false,
    "editable": false,
    "nbgrader": {
     "cell_type": "code",
     "checksum": "5bc352e9d9d76b9014ff663e4d1dc02c",
     "grade": true,
     "grade_id": "cell-e18f2a6ed803dfe5",
     "locked": true,
     "points": 1,
     "schema_version": 3,
     "solution": false,
     "task": false
    }
   },
   "outputs": [],
   "source": []
  },
  {
   "cell_type": "code",
   "execution_count": null,
   "metadata": {
    "deletable": false,
    "editable": false,
    "nbgrader": {
     "cell_type": "code",
     "checksum": "fbe5ca82b112aaa6be05669f21eee25a",
     "grade": true,
     "grade_id": "cell-f4d3b8b598f07474",
     "locked": true,
     "points": 1,
     "schema_version": 3,
     "solution": false,
     "task": false
    }
   },
   "outputs": [],
   "source": []
  },
  {
   "cell_type": "markdown",
   "metadata": {
    "deletable": false,
    "editable": false,
    "nbgrader": {
     "cell_type": "markdown",
     "checksum": "bd6a0f424d63ed62e30d7a6b5a14f144",
     "grade": false,
     "grade_id": "cell-e61fa62ec99eec01",
     "locked": true,
     "schema_version": 3,
     "solution": false
    }
   },
   "source": [
    "# Bonus (4 points): Why was 6 afraid of 7?\n",
    "## Because 7 8 9!\n",
    "### But why did 7 do it?\n",
    "#### Because 7 was told to eat 3 square meals a day!\n",
    "\n",
    "Actually, this is mathematically impossible. \"Cannibal numbers\" as they're called can only eat numbers that are smaller than them, or the same size. After eating another number, the number that gets eaten disappears, and the number that ate them increases by 1. \n",
    "\n",
    "For example, given the following set of numbers, let's pretend that **9** is the cannibal.<br>\n",
    "[27, **9**, 3, 8, 11]\n",
    "\n",
    "9 could start by eating 3 or 8. Let's say it eats 3, then the numbers would be:<br>\n",
    "[27, **10**, 8, 11]\n",
    "\n",
    "Then it could eat 8, so the numbers would be:<br>\n",
    "[27, **11**, 11]\n",
    "\n",
    "And lastly, it could eat 11 since they're now equal:<br>\n",
    "[27, **12**]\n",
    "\n",
    "Your task is to write a program that, given a list of numbers and a target number, determines how many numbers in the list can become **exactly** that number. For instance, in our example, two numbers could reach the value of 10. As we saw, 9 took on that value in the example. However, if 8 were the cannibal, it could:\n",
    "\n",
    "* Eat 3 to become 9\n",
    "* Then, Eat 9 to become 10\n",
    "\n",
    "So it could also hold the value of 10.\n",
    "\n",
    "For a target value of 11, the answer would also be 2, because 9 can become 11, and 11 is already 11.\n",
    "\n",
    "Your function may be passed a string of values separated by commas instead of a list--1 out of 4 points will be awarded for handling this case correctly."
   ]
  },
  {
   "cell_type": "code",
   "execution_count": 233,
   "metadata": {
    "deletable": false,
    "nbgrader": {
     "cell_type": "code",
     "checksum": "2f3f29a33c9aca36034f29895aaf9664",
     "grade": false,
     "grade_id": "cell-77063b4697eac250",
     "locked": false,
     "schema_version": 3,
     "solution": true
    }
   },
   "outputs": [],
   "source": [
    "def cannibal(l, target):\n",
    "    listc = []\n",
    "    \n",
    "    try:\n",
    "        l = l.split(\",\")\n",
    "        listc = [int(i) for i in list(l)]\n",
    "    except:\n",
    "        listc = l\n",
    "\n",
    "    listc.sort()\n",
    "    cannibalNums = 0\n",
    "    tempNum = 0\n",
    "    \n",
    "    for c in range(len(listc)):\n",
    "        tempNum = listc[c]\n",
    "        for x in range(len(listc)):\n",
    "            if tempNum == target:\n",
    "                cannibalNums += 1\n",
    "                break\n",
    "            if (x != c) and (tempNum >= listc[x]):\n",
    "                tempNum += 1\n",
    "    return cannibalNums"
   ]
  },
  {
   "cell_type": "code",
   "execution_count": 234,
   "metadata": {
    "deletable": false,
    "editable": false,
    "nbgrader": {
     "cell_type": "code",
     "checksum": "5e52a92cfe36187c60b01684a44360da",
     "grade": false,
     "grade_id": "cell-e676f8e0a5510ba4",
     "locked": true,
     "schema_version": 3,
     "solution": false,
     "task": false
    }
   },
   "outputs": [
    {
     "name": "stdout",
     "output_type": "stream",
     "text": [
      "Bonus Test Case #1: You Passed!\n",
      "Bonus Test Case #2: You Passed!\n",
      "Bonus Test Case #3: You Passed!\n",
      "Bonus Test Case #4: You Passed!\n"
     ]
    }
   ],
   "source": [
    "print(\"Bonus Test Case #1:\", tester(cannibal([27, 9, 3, 8, 11], 11), 2))\n",
    "print(\"Bonus Test Case #2:\", tester(cannibal([27, 9, 3, 8, 11], 50), 0))\n",
    "print(\"Bonus Test Case #3:\", tester(cannibal([3, 3, 3, 2, 2, 2, 1, 1, 1], 4), 9))\n",
    "print(\"Bonus Test Case #4:\", tester(cannibal(\"1,2,3,4,5\", 5), 4))"
   ]
  },
  {
   "cell_type": "code",
   "execution_count": null,
   "metadata": {
    "deletable": false,
    "editable": false,
    "nbgrader": {
     "cell_type": "code",
     "checksum": "e3f25340a07d8f8e526e686a81d8bef0",
     "grade": true,
     "grade_id": "cell-e58bfa8edb7ad7d4",
     "locked": true,
     "points": 1,
     "schema_version": 3,
     "solution": false
    }
   },
   "outputs": [],
   "source": [
    "# Hidden tests for bonus"
   ]
  },
  {
   "cell_type": "code",
   "execution_count": null,
   "metadata": {
    "deletable": false,
    "editable": false,
    "nbgrader": {
     "cell_type": "code",
     "checksum": "4c2f23bd2f2437144c3783768115738d",
     "grade": true,
     "grade_id": "cell-75d365964471fae0",
     "locked": true,
     "points": 1,
     "schema_version": 3,
     "solution": false
    }
   },
   "outputs": [],
   "source": [
    "# Hidden tests for bonus"
   ]
  },
  {
   "cell_type": "code",
   "execution_count": null,
   "metadata": {
    "deletable": false,
    "editable": false,
    "nbgrader": {
     "cell_type": "code",
     "checksum": "7b2924b90747bf9bb97f26f9c1b690d7",
     "grade": true,
     "grade_id": "cell-c0f9ca7e33d6c880",
     "locked": true,
     "points": 1,
     "schema_version": 3,
     "solution": false
    }
   },
   "outputs": [],
   "source": [
    "# Hidden tests for bonus"
   ]
  },
  {
   "cell_type": "code",
   "execution_count": null,
   "metadata": {
    "deletable": false,
    "editable": false,
    "nbgrader": {
     "cell_type": "code",
     "checksum": "acff72bc691a96d4e54a917d59c18e2b",
     "grade": true,
     "grade_id": "cell-a55554dc00825531",
     "locked": true,
     "points": 1,
     "schema_version": 3,
     "solution": false
    }
   },
   "outputs": [],
   "source": [
    "# Hidden tests for bonus"
   ]
  }
 ],
 "metadata": {
  "kernelspec": {
   "display_name": "Python 3 (ipykernel)",
   "language": "python",
   "name": "python3"
  },
  "language_info": {
   "codemirror_mode": {
    "name": "ipython",
    "version": 3
   },
   "file_extension": ".py",
   "mimetype": "text/x-python",
   "name": "python",
   "nbconvert_exporter": "python",
   "pygments_lexer": "ipython3",
   "version": "3.9.13"
  }
 },
 "nbformat": 4,
 "nbformat_minor": 2
}
